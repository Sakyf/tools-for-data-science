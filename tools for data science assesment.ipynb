{
 "cells": [
  {
   "cell_type": "markdown",
   "id": "7ade9add",
   "metadata": {},
   "source": [
    "# My Jupyter Notebook on IBM Watson Studio"
   ]
  },
  {
   "cell_type": "markdown",
   "id": "d836cac9",
   "metadata": {},
   "source": [
    "**Al Sakyf Azad**\n",
    "\n",
    "Im currently a student. I want to be a data scientist."
   ]
  },
  {
   "cell_type": "markdown",
   "id": "3a0b6e42",
   "metadata": {},
   "source": [
    "*I am interested in data science because i have interest in different types of research*"
   ]
  },
  {
   "cell_type": "markdown",
   "id": "e4b162c5",
   "metadata": {},
   "source": [
    "### Multiply two digits"
   ]
  },
  {
   "cell_type": "code",
   "execution_count": 1,
   "id": "05a4f355",
   "metadata": {},
   "outputs": [
    {
     "data": {
      "text/plain": [
       "35"
      ]
     },
     "execution_count": 1,
     "metadata": {},
     "output_type": "execute_result"
    }
   ],
   "source": [
    "5*7"
   ]
  },
  {
   "cell_type": "markdown",
   "id": "5ac4e4b8",
   "metadata": {},
   "source": [
    "Numbered list:\n",
    "\n",
    "1. 1st element\n",
    "2. 2nd element\n",
    "3. 3rd element\n",
    "\n",
    "\n",
    "Bulleted list:\n",
    "\n",
    "* 1st element\n",
    "* 2nd element\n",
    "* 3rd element\n",
    "\n",
    "\n",
    "link:\n",
    "[Ibm](https://www.ibm.com)"
   ]
  }
 ],
 "metadata": {
  "kernelspec": {
   "display_name": "Python 3 (ipykernel)",
   "language": "python",
   "name": "python3"
  },
  "language_info": {
   "codemirror_mode": {
    "name": "ipython",
    "version": 3
   },
   "file_extension": ".py",
   "mimetype": "text/x-python",
   "name": "python",
   "nbconvert_exporter": "python",
   "pygments_lexer": "ipython3",
   "version": "3.9.13"
  }
 },
 "nbformat": 4,
 "nbformat_minor": 5
}
